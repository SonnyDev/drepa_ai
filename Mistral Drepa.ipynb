{
 "cells": [
  {
   "cell_type": "code",
   "execution_count": 1,
   "metadata": {},
   "outputs": [],
   "source": [
    "from langchain_community.document_loaders import SeleniumURLLoader"
   ]
  },
  {
   "cell_type": "code",
   "execution_count": 2,
   "metadata": {},
   "outputs": [],
   "source": [
    "urls = [\n",
    "    \"https://www.hopkinsmedicine.org/health/conditions-and-diseases/sickle-cell-disease#:~:text=Key%20points,causing%20painful%20and%20damaging%20complications.\",\n",
    "    \"https://www.hematology.org/newsroom/press-releases/2023/quantifying-the-life-expectancy-gap-for-people-living-with-sickle-cell-disease#:~:text=Researchers%20found%20that%20the%20average,at%20birth%20(55%20years).\",\n",
    "    \"https://www.nhlbi.nih.gov/health/sickle-cell-disease#:~:text=These%20sickled%20red%20blood%20cells,disease%20is%20a%20lifelong%20illness.\",\n",
    "    \"https://www.nhs.uk/conditions/sickle-cell-disease/treatment/#:~:text=Stem%20cell%20or%20bone%20marrow%20transplants%20are%20the%20only%20cure,different%20types%20of%20blood%20cells.\",\n",
    "    \"https://my.clevelandclinic.org/health/diseases/12100-sickle-cell-disease\",\n",
    "    \"https://my.clevelandclinic.org/health/diseases/4579-sickle-cell-anemia\",\n",
    "    \"https://www.hematology.org/education/patients/anemia/sickle-cell-disease#:~:text=Complications%20of%20sickle%20cell%20disease,in%20some%20cases%20premature%20death.\",\n",
    "    \"https://www.mayoclinic.org/diseases-conditions/sickle-cell-anemia/symptoms-causes/syc-20355876\",\n",
    "    \"https://www.nhs.uk/conditions/sickle-cell-disease/living-with/#:~:text=avoid%20very%20strenuous%20exercise%20%E2%80%93%20people,condition%20called%20acute%20chest%20syndrome\",\n",
    "    \"https://www.hindawi.com/journals/ah/2010/272940/\",\n",
    "    \"https://www.upmc.com/services/sickle-cell/conditions/sickle-cell-disease#:~:text=Sickle%20Cell%20Disease%20Diagnosis%2C%20Symptoms%2C%20and%20Complications&text=Adult%20sickle%20cell%20disease%20can,effects%20of%20sickle%20cell%20anemia.\",\n",
    "    \"https://www.ihtc.org/sickle-cell-signs-symptoms#:~:text=Sickle%20cell%20disease%20is%20usually,to%20six%20months%20of%20age.\",\n",
    "    \"https://pubmed.ncbi.nlm.nih.gov/16635275/#:~:text=Women%20with%20sickle%20cell%20disease,to%20ameliorate%20sickle%20cell%20anemia.\",\n",
    "    \"https://www.icliniq.com/articles/blood-health/sickle-cell-disease-screening-and-marital-decisions#:~:text=They%20are%20good%20to%20go,)%20or%20normal%20(AA).\",\n",
    "    \"https://www.ncdhhs.gov/sicklecell#:~:text=While%20most%20people%20with%20sickle,low%20oxygen%20levels\",\n",
    "    \"https://www.letstalksicklecell.co.uk/diet-food-and-nutrition#:~:text=Limiting%20meat%20with%20high%20iron,important%20in%20sickle%20cell%20disease.\",\n",
    "    \"https://www.nationwidechildrens.org/family-resources-education/health-wellness-and-safety-resources/helping-hands/sickle-cell-disease-and-pain#:~:text=Most%20pain%20can%20be%20managed,will%20make%20the%20pain%20worse.\",\n",
    "    \"https://www.rofsed.fr/la-drepanocytose/questions-dados/#:~:text=Combien%20de%20personnes%2C%20en%20France,elles%20faites%20sur%20la%20dr%C3%A9panocytose%20%3F\",\n",
    "    \"https://apipd.fr/drepanocytose/traitements-et-bonnes-pratiques/#:~:text=Ne%20pas%20s'enrhumer%20ou,Ne%20pas%20s'essouffler\",\n",
    "    \"https://sosglobi.fr/en/drepanocytose/complications/#:~:text=Les%20atteintes%20d'organe%20les,et%20peuvent%20n%C3%A9cessiter%20une%20transplantation.\",\n",
    "    \"https://www.santetropicale.com/Actualites/0204/0204_11.htm#:~:text=C'est%20dans%20les%20pays%20o%C3%B9%20elle%20est%20la%20plus,d'immigr%C3%A9s%20particuli%C3%A8rement%20fragile%22.\",\n",
    "    \"https://www.vidal.fr/maladies/coeur-circulation-veines/drepanocytose/symptomes.html#:~:text=L'an%C3%A9mie%20chronique%20dans%20la%20dr%C3%A9panocytose&text=Dans%20le%20contexte%20de%20la,patients%20s'adaptent%20assez%20facilement.\",\n",
    "    \"https://www.inserm.fr/dossier/drepanocytose/#:~:text=Les%20progr%C3%A8s%20dans%20la%20prise,ans%20avant%20les%20ann%C3%A9es%201980.\",\n",
    "    \"https://www.elsan.care/fr/pathologie-et-traitement/maladies-generale/drepanocytose-symptomes-traitements#:~:text=La%20dr%C3%A9panocytose%20est%20une%20maladie%20incurable.,en%20charge%20pr%C3%A9coce%20et%20efficace.\",\n",
    "    \"https://www.parlons-drepanocytose.fr/fr/votre-vie-avec-la-drepanocytose#:~:text=Lorsque%20vous%20%C3%AAtes%20atteint%20de,important%20de%20pr%C3%A9venir%20les%20infections.&text=Dans%20certains%20cas%20pr%C3%A9cis%2C%20des,prescrits%20pour%20pr%C3%A9venir%20les%20infections.&text=Une%20prophylaxie%20contre%20le%20paludisme,de%20voyage%20en%20zone%20end%C3%A9mique.\",\n",
    "    \"https://robertdebre.aphp.fr/dossier/drepanocytose/chapitre/drepanocytose-au-quotidien/#:~:text=L'alimentation%20de%20l'enfant,d%C3%A9clenchement%20des%20crises%20vaso%2Docclusives.\",\n",
    "    \"https://infosdrepanocytose.com/les-fiches-information/quest-ce-que-la-drepanocytose/#:~:text=Une%20maladie%20h%C3%A9r%C3%A9ditaire&text=l'h%C3%A9moglobine%20S%20caract%C3%A9ristique%20de,'est%20l'an%C3%A9mie%20falciforme.\",\n",
    "    \"https://www.santemagazine.fr/sante/fiche-maladie/drepanocytose-177689\",\n",
    "    \"https://robertdebre.aphp.fr/drepanocytose/#:~:text=Cette%20maladie%20est%20due%20%C3%A0,tous%20les%20organes%20du%20corps.\",\n",
    "    \"https://www.chicreteil.fr/espaces-sante/la-drepanocytose/presentation/mon-enfant-a-la-drepanocytose/#:~:text=L'enfant%20dr%C3%A9panocytaire%20a%20ainsi,une%20transfusion%20de%20globules%20rouges.\",\n",
    "    \"https://www.msdmanuals.com/fr/accueil/troubles-du-sang/an%C3%A9mie/dr%C3%A9panocytose\",\n",
    "    \"https://www.hopital.fr/Actualites/Drepanocytose-maladie-genetique-la-plus-repandue#:~:text=%5BHopital.fr%5D%20%E2%80%93%20Ce,Et%20qui%20reste%20largement%20m%C3%A9connue.\",\n",
    "    \"https://www.lowcostivf.net/fr/sickle-cell-disease-prevention/#:~:text=La%20pr%C3%A9vention%20de%20la%20dr%C3%A9panocytose,apr%C3%A8s%20le%20protocole%20de%20FIV.\",\n",
    "    \"https://www.vidal.fr/maladies/coeur-circulation-veines/drepanocytose/complications.html#:~:text=D'autres%20complications%20li%C3%A9es%20aux,un%20l%C3%A9ger%20retard%20de%20croissance.\",\n",
    "    \"https://devsante.org/articles/drepanocytose/\",\n",
    "    \"https://www.vidal.fr/maladies/coeur-circulation-veines/drepanocytose/causes-prevention.html#:~:text=Donc%20pour%20souffrir%20de%20dr%C3%A9panocytose,sont%20tout%20deux%20S%2FA.\",\n",
    "    \"https://www.parlons-drepanocytose.fr/fr/prise-en-charge-de-la-douleur#:~:text=Chez%20les%20jeunes%20enfants%2C%20la,des%20doigts%20et%20des%20orteils.&text=Les%20enfants%20plus%20%C3%A2g%C3%A9s%20et,dos%20ou%20de%20la%20poitrine.\",\n",
    "    \"https://www.chu-bordeaux.fr/Espace-m%C3%A9dia/Actualit%C3%A9s/ARCHIVES-ACTUALITES-2017/La-dr%C3%A9panocytose/#:~:text=La%20dr%C3%A9panocytose%20est%20particuli%C3%A8rement%20fr%C3%A9quente,Sud%20(surtout%20au%20Br%C3%A9sil).\",\n",
    "    \"https://www.parlons-drepanocytose.fr/fr/regime-alimentaire-aliments-et-nutrition#:~:text=Essayez%20de%20trouver%20des%20aliments,des%20l%C3%A9gumes%20%C3%A0%20votre%20alimentation.&text=Limitez%20la%20viande%20riche%20en,ou%20encore%20les%20aliments%20industriels.\",\n",
    "    \"https://www.vidal.fr/maladies/coeur-circulation-veines/drepanocytose/traitement.html#:~:text=La%20prise%20en%20charge%20m%C3%A9dicale%20de%20la%20dr%C3%A9panocytose%20consiste%20%C3%A0,de%20m%C3%A9dicaments%20contre%20la%20douleur.\",\n",
    "    \"https://www.larevuedupraticien.fr/article/traitement-de-fond-et-suivi-de-la-drepanocytose#:~:text=L'HC%2C%20d%C3%A9nomm%C3%A9e%20aussi%20hydroxyur%C3%A9e,de%20l'esp%C3%A9rance%20de%20vie.\",\n",
    "    \"https://infosdrepanocytose.com/les-fiches-information/quest-ce-que-la-drepanocytose/#:~:text=l'h%C3%A9moglobine%20S%20caract%C3%A9ristique%20de,'est%20l'an%C3%A9mie%20falciforme.\",\n",
    "    \"https://www.elsan.care/fr/pathologie-et-traitement/maladies-generale/drepanocytose-symptomes-traitements#:~:text=Le%20type%20de%20dr%C3%A9panocytose%20le,Hb%20S%20de%20l'autre.\",\n",
    "    \"https://biodatacatalyst.nhlbi.nih.gov/latest-updates/SCDdatasets2023\",\n",
    "    \"https://fr.wikipedia.org/wiki/Dr%C3%A9panocytose\",\n",
    "    \"https://en.wikipedia.org/wiki/Sickle_cell_disease\"\n",
    "]"
   ]
  },
  {
   "cell_type": "code",
   "execution_count": 3,
   "metadata": {},
   "outputs": [],
   "source": [
    "loader = SeleniumURLLoader(urls=urls)"
   ]
  },
  {
   "cell_type": "code",
   "execution_count": 4,
   "metadata": {},
   "outputs": [],
   "source": [
    "data = loader.load()"
   ]
  },
  {
   "cell_type": "code",
   "execution_count": 16,
   "metadata": {},
   "outputs": [
    {
     "data": {
      "text/plain": [
       "Document(page_content='Home\\n\\nHealth\\n\\nConditions and Diseases\\n\\nSickle Cell Disease\\n\\nGenetic Disorders\\n\\nWhat is sickle cell disease?\\n\\nSickle cell disease is an inherited blood disorder. It is marked by flawed hemoglobin. That’s the protein in red blood cells that carries oxygen to the tissues of the body. So, sickle cell disease interferes with the delivery of oxygen to the tissues.\\n\\nRed blood cells with normal hemoglobin are smooth, disk-shaped, and flexible, like\\xa0doughnuts without holes. They can move through the blood vessels easily. Cells with sickle cell hemoglobin are stiff and sticky. When they lose their oxygen, they form into the shape of a sickle or crescent,\\xa0like the letter C. These cells stick together and can’t easily move through the blood vessels. This can block small blood vessels and the movement of healthy, normal oxygen-carrying blood. The blockage can cause pain.\\n\\nNormal\\xa0red\\xa0blood cells\\xa0can live up to 120 days. But, sickle cells only live for about 10 to 20 days. Also, sickle cells may be destroyed by the spleen because of their shape and stiffness. The spleen helps filter the blood of infections. Sickled cells get stuck in this filter and die. With less healthy red blood cells\\xa0circulating in the body, you can become chronically anemic. The sickled cells also damage the spleen. This puts you are at greater at risk for infections.\\n\\nWhat causes sickle cell disease?\\n\\nSickle cell is an inherited disease caused by a defect in a gene.\\n\\nA person will be born with sickle cell disease only if two genes are inherited—one from the mother and one from the father.\\n\\nA person who inherits just one gene is healthy and said to be a \"carrier\" of the disease. A carrier has an increased chance of having a child with sickle cell disease if he or she has a child with another carrier.\\n\\nFor parents who are each carriers of a sickle cell gene,\\xa0there is a 1 in 4, or a 25 % chance of having a child with sickle cell disease.\\n\\nWhat are the risk factors for sickle cell disease? Having a family history of sickle cell disease increases your risk for the disease. In the United States, it mainly affects African Americans.\\n\\nWhat are the symptoms of sickle cell disease?\\n\\nThe following is a list of symptoms and complications associated with sickle cell disease. However, each person may experience symptoms differently. Symptoms and complications may include:\\n\\nAnemia.\\xa0Because sickled cells are short-lived or destroyed, there are less red blood cells available in the body. This results in anemia.\\xa0Severe anemia can make you feel dizzy, short of breath, and tired.\\n\\nPain crisis, or sickle crisis.\\xa0This occurs when the flow of blood is blocked to an area because the sickled cells have become stuck in the blood vessel. The pain can occur anywhere, but most often occurs in the chest, arms, and legs. Infants and young children may have painful swelling of the fingers and toes. Interruption in blood flow may also cause tissue death.\\n\\nAcute chest syndrome.\\xa0This occurs when sickling occurs in the chest. This can be life-threatening. It often occurs suddenly, when the body is under stress from infection, fever, or dehydration. The sickled cells stick together and block the flow of oxygen in the tiny vessels in the lungs. It resembles pneumonia and can include fever, pain, and a violent cough.\\n\\nSplenic sequestration (pooling).\\xa0Crises are\\xa0a result of sickle cells pooling in the spleen. This can cause a sudden drop in hemoglobin and can be life-threatening if not treated promptly. The spleen can also become enlarged and painful from the increase in blood volume. After repeated episodes, \\xa0the spleen becomes scarred, and permanently damaged. Most children, by\\xa0age\\xa08, do not have a working spleen either from surgical removal, or from repeated episodes of splenic sequestration. The risk of infection is a major concern of children without a working spleen. Infection is the major cause of death in children younger than age 5\\xa0in this population.\\n\\nStroke.\\xa0This is another sudden and severe complication of people with sickle cell disease. The misshapen cells can block the major blood vessels that supply the brain with oxygen. Any interruption in the flow of blood and oxygen to the brain can result in severe brain damage. If you have one stroke from sickle cell anemia, you are more likely to have a second and third stroke.\\n\\nJaundice, or yellowing of the skin, eyes, and mouth.\\xa0Jaundice is\\xa0a common sign and symptom of sickle disease. Sickle cells do not live as long as normal red blood cells and, therefore, they are dying faster than the liver can filter them out. Bilirubin (which causes the yellow color) from these broken down cells builds up in the system causing jaundice.\\n\\nPriapism. \\xa0This is a painful obstruction of the blood vessels in the penis by sickle cells. If not promptly treated, it can result in impotence.\\n\\nThe symptoms of sickle cell disease may look like other blood disorders or medical problems. Always consult your\\xa0health care provider for a diagnosis.\\n\\nHow is sickle cell disease diagnosed?\\n\\nAlong with a complete medical history and physical exam, you may have blood and other tests.\\n\\nMany states routinely screen newborns for sickle cell so that treatment can begin as soon as possible. Early diagnosis and treatment can reduce the risk of complications.\\n\\nHemoglobin electrophoresis is a blood test that can determine if a person is a carrier of sickle cell, or has any of the diseases associated with the sickle cell gene.\\n\\nHow is sickle cell disease treated?\\n\\nYour doctor will consider your age, overall health and other factors when determining the best treatment for you.\\n\\nEarly diagnosis and prevention of complications is critical in sickle cell disease treatment. Treatment aims to prevent organ damage including strokes, prevent infection, and treat symptoms. Treatment may include:\\n\\nPain medications.\\xa0This is for sickle cell crises.\\n\\nDrinking plenty of water daily (8 to 10 glasses). This is\\xa0to prevent and treat pain crises. In some situations, intravenous fluids may be required.\\n\\nBlood transfusions. These may help treat anemia and prevent stroke.\\xa0They are also used to dilute the sickled hemoglobin with normal hemoglobin to treat chronic pain, acute chest syndrome, splenic sequestration, and other emergencies.\\n\\nVaccinations and antibiotics. These\\xa0are\\xa0used to prevent infections.\\n\\nFolic acid. Folic acid will help prevent severe anemia.\\n\\nHydroxyurea. This medication helps reduce the frequency of pain crises and acute chest syndrome. It may also help decrease the need for blood transfusions. The long-term effects of the medication are unknown.\\n\\nRegular eye exams. These are done\\xa0to screen for retinopathy.\\n\\nBone marrow transplant. Bone marrow transplants can cure some people with sickle cell disease. The decision to have this procedure is based on the severity of the disease and ability to find a suitable bone marrow donor. These decisions need to be discussed with your\\xa0doctor and are only done at specialized medical centers.\\n\\nWhat are the complications of sickle cell disease?\\n\\nAny and all major organs are affected by sickle cell disease. The liver, heart, kidneys, gallbladder, eyes, bones, and joints can suffer damage from the abnormal function of the sickle cells and their inability to flow through the small blood vessels correctly. Problems may include the following:\\n\\nIncreased infections\\n\\nLeg ulcers\\n\\nBone damage\\n\\nEarly gallstones\\n\\nKidney damage and loss of body water in the urine\\n\\nEye damage\\n\\nMultiple organ failure\\n\\nLiving with sickle cell disease\\n\\nSickle cell disease is a life-long condition. Although the complications of sickle cell disease may not be able to be prevented entirely, living a healthy life-style can reduce some of the complications.\\n\\nIt is important to eat a healthy diet with lots of fruits, vegetables, whole grains, and protein, and drink lots of fluids.\\n\\nDo not take decongestants because they cause constriction of blood vessels and could trigger a crisis.\\n\\nOther factors that may trigger a crisis include high altitudes, cold weather, swimming in cold water, and heavy physical labor.\\n\\nAvoid infections by getting an annual flu shot, washing your hands frequently, avoiding those who are sick, and getting regular dental exams.\\n\\nKey points\\n\\nSickle cell disease is an inherited blood disorder marked by defective hemoglobin.\\n\\nIt\\xa0inhibits the ability of hemoglobin in red blood cells\\xa0to carry oxygen.\\n\\nSickle cells tend to stick together, blocking small blood vessels causing painful and damaging complications.\\n\\nSickle cell disease is treated with pain medications as needed, drinking 8 to 10 glasses of water each day, blood transfusions, and medications.\\n\\nNext steps\\n\\nTips to help you get the most from a visit to your health care provider:\\n\\nBefore your visit, write down questions you want answered.\\n\\nBring someone with you to help you ask questions and remember what your provider tells you.\\n\\nAt the visit, write down the names of new medicines, treatments, or tests, and any new instructions your provider gives you.\\n\\nIf you have a follow-up appointment, write down the date, time, and purpose for that visit.\\n\\nKnow how you can contact your provider if you have questions.\\n\\nFind a Doctor\\n\\nSpecializing In:\\n\\nAtaxia-Telangiectasia\\n\\nAt Another Johns Hopkins Member Hospital:\\n\\nHoward County Medical Center\\n\\nSibley Memorial Hospital\\n\\nSuburban Hospital\\n\\nFind a Treatment Center\\n\\nNeurocutaneous Disorders Clinic (Johns Hopkins All Children\\'s Hospital)\\n\\nInstitute of Genetic Medicine\\n\\nFind Additional Treatment Centers at:\\n\\nHoward County Medical Center\\n\\nSibley Memorial Hospital\\n\\nSuburban Hospital\\n\\nRelated\\n\\nMetatropic Dysplasia\\n\\nMucopolysaccharidoses (MPS)\\n\\nWolman Disease: Evelyn\\'s Story\\n\\nHereditary Multiple Exostosis Diahyseal Aclasia\\n\\nRequest an Appointment\\n\\nFind a Doctor\\n\\n410-955-5000\\n\\n            Maryland\\n\\n855-695-4872\\n\\n            Outside of Maryland\\n\\n+1-410-502-7683\\n\\n            International\\n\\nFind a Doctor\\n\\nFind a Doctor\\n\\nSpecializing In:\\n\\nAtaxia-Telangiectasia\\n\\nAt Another Johns Hopkins Member Hospital:\\n\\nHoward County Medical Center\\n\\nSibley Memorial Hospital\\n\\nSuburban Hospital\\n\\nFind a Treatment Center\\n\\nNeurocutaneous Disorders Clinic (Johns Hopkins All Children\\'s Hospital)\\n\\nInstitute of Genetic Medicine\\n\\nFind Additional Treatment Centers at:\\n\\nHoward County Medical Center\\n\\nSibley Memorial Hospital\\n\\nSuburban Hospital\\n\\nRelated\\n\\nBones and Joints\\n                            \\n\\n                        Metatropic Dysplasia\\n\\nMucopolysaccharidoses (MPS)\\n                            \\n\\n                        Mucopolysaccharidoses (MPS)\\n\\nGenetic Disorders\\n                            \\n\\n                        Wolman Disease: Evelyn\\'s Story\\n\\nRelated Topics\\n\\nGenetic Disorders', metadata={'source': 'https://www.hopkinsmedicine.org/health/conditions-and-diseases/sickle-cell-disease#:~:text=Key%20points,causing%20painful%20and%20damaging%20complications.', 'title': 'Sickle Cell Disease | Johns Hopkins Medicine', 'description': \"Sickle cell disease is a\\xa0 blood disorder in which the hemoglobin is damaged and can't carry oxygen to the tissues. These blood cells with the defective hemoglobin are sticky and can build up and block small blood vessels leading to pain and other complications of the disease.\", 'language': 'en'})"
      ]
     },
     "execution_count": 16,
     "metadata": {},
     "output_type": "execute_result"
    }
   ],
   "source": [
    "data[0]"
   ]
  },
  {
   "cell_type": "code",
   "execution_count": 17,
   "metadata": {},
   "outputs": [],
   "source": [
    "from langchain_text_splitters import RecursiveCharacterTextSplitter"
   ]
  },
  {
   "cell_type": "code",
   "execution_count": 18,
   "metadata": {},
   "outputs": [],
   "source": [
    "text_splitter = RecursiveCharacterTextSplitter(\n",
    "    # Set a really small chunk size, just to show.\n",
    "    chunk_size=1000,\n",
    "    chunk_overlap=200,\n",
    "    length_function=len,\n",
    "    is_separator_regex=False,\n",
    ")"
   ]
  },
  {
   "cell_type": "code",
   "execution_count": 19,
   "metadata": {},
   "outputs": [],
   "source": [
    "texts = text_splitter.split_documents(data)"
   ]
  },
  {
   "cell_type": "code",
   "execution_count": 20,
   "metadata": {},
   "outputs": [
    {
     "data": {
      "text/plain": [
       "Document(page_content='Home\\n\\nHealth\\n\\nConditions and Diseases\\n\\nSickle Cell Disease\\n\\nGenetic Disorders\\n\\nWhat is sickle cell disease?\\n\\nSickle cell disease is an inherited blood disorder. It is marked by flawed hemoglobin. That’s the protein in red blood cells that carries oxygen to the tissues of the body. So, sickle cell disease interferes with the delivery of oxygen to the tissues.\\n\\nRed blood cells with normal hemoglobin are smooth, disk-shaped, and flexible, like\\xa0doughnuts without holes. They can move through the blood vessels easily. Cells with sickle cell hemoglobin are stiff and sticky. When they lose their oxygen, they form into the shape of a sickle or crescent,\\xa0like the letter C. These cells stick together and can’t easily move through the blood vessels. This can block small blood vessels and the movement of healthy, normal oxygen-carrying blood. The blockage can cause pain.', metadata={'source': 'https://www.hopkinsmedicine.org/health/conditions-and-diseases/sickle-cell-disease#:~:text=Key%20points,causing%20painful%20and%20damaging%20complications.', 'title': 'Sickle Cell Disease | Johns Hopkins Medicine', 'description': \"Sickle cell disease is a\\xa0 blood disorder in which the hemoglobin is damaged and can't carry oxygen to the tissues. These blood cells with the defective hemoglobin are sticky and can build up and block small blood vessels leading to pain and other complications of the disease.\", 'language': 'en'})"
      ]
     },
     "execution_count": 20,
     "metadata": {},
     "output_type": "execute_result"
    }
   ],
   "source": [
    "texts[0]"
   ]
  },
  {
   "cell_type": "code",
   "execution_count": 22,
   "metadata": {},
   "outputs": [],
   "source": [
    "import os\n",
    "import openai\n",
    "\n",
    "from dotenv import load_dotenv, find_dotenv\n",
    "_ = load_dotenv(find_dotenv()) # read local .env file\n",
    "openai.api_key = os.environ['OPENAI_API_KEY']"
   ]
  },
  {
   "cell_type": "code",
   "execution_count": 27,
   "metadata": {},
   "outputs": [
    {
     "data": {
      "text/plain": [
       "[Document(page_content='Home\\n\\nHealth\\n\\nConditions and Diseases\\n\\nSickle Cell Disease\\n\\nGenetic Disorders\\n\\nWhat is sickle cell disease?\\n\\nSickle cell disease is an inherited blood disorder. It is marked by flawed hemoglobin. That’s the protein in red blood cells that carries oxygen to the tissues of the body. So, sickle cell disease interferes with the delivery of oxygen to the tissues.\\n\\nRed blood cells with normal hemoglobin are smooth, disk-shaped, and flexible, like\\xa0doughnuts without holes. They can move through the blood vessels easily. Cells with sickle cell hemoglobin are stiff and sticky. When they lose their oxygen, they form into the shape of a sickle or crescent,\\xa0like the letter C. These cells stick together and can’t easily move through the blood vessels. This can block small blood vessels and the movement of healthy, normal oxygen-carrying blood. The blockage can cause pain.\\n\\nNormal\\xa0red\\xa0blood cells\\xa0can live up to 120 days. But, sickle cells only live for about 10 to 20 days. Also, sickle cells may be destroyed by the spleen because of their shape and stiffness. The spleen helps filter the blood of infections. Sickled cells get stuck in this filter and die. With less healthy red blood cells\\xa0circulating in the body, you can become chronically anemic. The sickled cells also damage the spleen. This puts you are at greater at risk for infections.\\n\\nWhat causes sickle cell disease?\\n\\nSickle cell is an inherited disease caused by a defect in a gene.\\n\\nA person will be born with sickle cell disease only if two genes are inherited—one from the mother and one from the father.\\n\\nA person who inherits just one gene is healthy and said to be a \"carrier\" of the disease. A carrier has an increased chance of having a child with sickle cell disease if he or she has a child with another carrier.\\n\\nFor parents who are each carriers of a sickle cell gene,\\xa0there is a 1 in 4, or a 25 % chance of having a child with sickle cell disease.\\n\\nWhat are the risk factors for sickle cell disease? Having a family history of sickle cell disease increases your risk for the disease. In the United States, it mainly affects African Americans.\\n\\nWhat are the symptoms of sickle cell disease?\\n\\nThe following is a list of symptoms and complications associated with sickle cell disease. However, each person may experience symptoms differently. Symptoms and complications may include:\\n\\nAnemia.\\xa0Because sickled cells are short-lived or destroyed, there are less red blood cells available in the body. This results in anemia.\\xa0Severe anemia can make you feel dizzy, short of breath, and tired.\\n\\nPain crisis, or sickle crisis.\\xa0This occurs when the flow of blood is blocked to an area because the sickled cells have become stuck in the blood vessel. The pain can occur anywhere, but most often occurs in the chest, arms, and legs. Infants and young children may have painful swelling of the fingers and toes. Interruption in blood flow may also cause tissue death.\\n\\nAcute chest syndrome.\\xa0This occurs when sickling occurs in the chest. This can be life-threatening. It often occurs suddenly, when the body is under stress from infection, fever, or dehydration. The sickled cells stick together and block the flow of oxygen in the tiny vessels in the lungs. It resembles pneumonia and can include fever, pain, and a violent cough.\\n\\nSplenic sequestration (pooling).\\xa0Crises are\\xa0a result of sickle cells pooling in the spleen. This can cause a sudden drop in hemoglobin and can be life-threatening if not treated promptly. The spleen can also become enlarged and painful from the increase in blood volume. After repeated episodes, \\xa0the spleen becomes scarred, and permanently damaged. Most children, by\\xa0age\\xa08, do not have a working spleen either from surgical removal, or from repeated episodes of splenic sequestration. The risk of infection is a major concern of children without a working spleen. Infection is the major cause of death in children younger than age 5\\xa0in this population.\\n\\nStroke.\\xa0This is another sudden and severe complication of people with sickle cell disease. The misshapen cells can block the major blood vessels that supply the brain with oxygen. Any interruption in the flow of blood and oxygen to the brain can result in severe brain damage. If you have one stroke from sickle cell anemia, you are more likely to have a second and third stroke.\\n\\nJaundice, or yellowing of the skin, eyes, and mouth.\\xa0Jaundice is\\xa0a common sign and symptom of sickle disease. Sickle cells do not live as long as normal red blood cells and, therefore, they are dying faster than the liver can filter them out. Bilirubin (which causes the yellow color) from these broken down cells builds up in the system causing jaundice.\\n\\nPriapism. \\xa0This is a painful obstruction of the blood vessels in the penis by sickle cells. If not promptly treated, it can result in impotence.\\n\\nThe symptoms of sickle cell disease may look like other blood disorders or medical problems. Always consult your\\xa0health care provider for a diagnosis.\\n\\nHow is sickle cell disease diagnosed?\\n\\nAlong with a complete medical history and physical exam, you may have blood and other tests.\\n\\nMany states routinely screen newborns for sickle cell so that treatment can begin as soon as possible. Early diagnosis and treatment can reduce the risk of complications.\\n\\nHemoglobin electrophoresis is a blood test that can determine if a person is a carrier of sickle cell, or has any of the diseases associated with the sickle cell gene.\\n\\nHow is sickle cell disease treated?\\n\\nYour doctor will consider your age, overall health and other factors when determining the best treatment for you.\\n\\nEarly diagnosis and prevention of complications is critical in sickle cell disease treatment. Treatment aims to prevent organ damage including strokes, prevent infection, and treat symptoms. Treatment may include:\\n\\nPain medications.\\xa0This is for sickle cell crises.\\n\\nDrinking plenty of water daily (8 to 10 glasses). This is\\xa0to prevent and treat pain crises. In some situations, intravenous fluids may be required.\\n\\nBlood transfusions. These may help treat anemia and prevent stroke.\\xa0They are also used to dilute the sickled hemoglobin with normal hemoglobin to treat chronic pain, acute chest syndrome, splenic sequestration, and other emergencies.\\n\\nVaccinations and antibiotics. These\\xa0are\\xa0used to prevent infections.\\n\\nFolic acid. Folic acid will help prevent severe anemia.\\n\\nHydroxyurea. This medication helps reduce the frequency of pain crises and acute chest syndrome. It may also help decrease the need for blood transfusions. The long-term effects of the medication are unknown.\\n\\nRegular eye exams. These are done\\xa0to screen for retinopathy.\\n\\nBone marrow transplant. Bone marrow transplants can cure some people with sickle cell disease. The decision to have this procedure is based on the severity of the disease and ability to find a suitable bone marrow donor. These decisions need to be discussed with your\\xa0doctor and are only done at specialized medical centers.\\n\\nWhat are the complications of sickle cell disease?\\n\\nAny and all major organs are affected by sickle cell disease. The liver, heart, kidneys, gallbladder, eyes, bones, and joints can suffer damage from the abnormal function of the sickle cells and their inability to flow through the small blood vessels correctly. Problems may include the following:\\n\\nIncreased infections\\n\\nLeg ulcers\\n\\nBone damage\\n\\nEarly gallstones\\n\\nKidney damage and loss of body water in the urine\\n\\nEye damage\\n\\nMultiple organ failure\\n\\nLiving with sickle cell disease\\n\\nSickle cell disease is a life-long condition. Although the complications of sickle cell disease may not be able to be prevented entirely, living a healthy life-style can reduce some of the complications.\\n\\nIt is important to eat a healthy diet with lots of fruits, vegetables, whole grains, and protein, and drink lots of fluids.\\n\\nDo not take decongestants because they cause constriction of blood vessels and could trigger a crisis.\\n\\nOther factors that may trigger a crisis include high altitudes, cold weather, swimming in cold water, and heavy physical labor.\\n\\nAvoid infections by getting an annual flu shot, washing your hands frequently, avoiding those who are sick, and getting regular dental exams.\\n\\nKey points\\n\\nSickle cell disease is an inherited blood disorder marked by defective hemoglobin.\\n\\nIt\\xa0inhibits the ability of hemoglobin in red blood cells\\xa0to carry oxygen.\\n\\nSickle cells tend to stick together, blocking small blood vessels causing painful and damaging complications.\\n\\nSickle cell disease is treated with pain medications as needed, drinking 8 to 10 glasses of water each day, blood transfusions, and medications.\\n\\nNext steps\\n\\nTips to help you get the most from a visit to your health care provider:\\n\\nBefore your visit, write down questions you want answered.\\n\\nBring someone with you to help you ask questions and remember what your provider tells you.\\n\\nAt the visit, write down the names of new medicines, treatments, or tests, and any new instructions your provider gives you.\\n\\nIf you have a follow-up appointment, write down the date, time, and purpose for that visit.\\n\\nKnow how you can contact your provider if you have questions.\\n\\nFind a Doctor\\n\\nSpecializing In:\\n\\nAtaxia-Telangiectasia\\n\\nAt Another Johns Hopkins Member Hospital:\\n\\nHoward County Medical Center\\n\\nSibley Memorial Hospital\\n\\nSuburban Hospital\\n\\nFind a Treatment Center\\n\\nNeurocutaneous Disorders Clinic (Johns Hopkins All Children\\'s Hospital)\\n\\nInstitute of Genetic Medicine\\n\\nFind Additional Treatment Centers at:\\n\\nHoward County Medical Center\\n\\nSibley Memorial Hospital\\n\\nSuburban Hospital\\n\\nRelated\\n\\nMetatropic Dysplasia\\n\\nMucopolysaccharidoses (MPS)\\n\\nWolman Disease: Evelyn\\'s Story\\n\\nHereditary Multiple Exostosis Diahyseal Aclasia\\n\\nRequest an Appointment\\n\\nFind a Doctor\\n\\n410-955-5000\\n\\n            Maryland\\n\\n855-695-4872\\n\\n            Outside of Maryland\\n\\n+1-410-502-7683\\n\\n            International\\n\\nFind a Doctor\\n\\nFind a Doctor\\n\\nSpecializing In:\\n\\nAtaxia-Telangiectasia\\n\\nAt Another Johns Hopkins Member Hospital:\\n\\nHoward County Medical Center\\n\\nSibley Memorial Hospital\\n\\nSuburban Hospital\\n\\nFind a Treatment Center\\n\\nNeurocutaneous Disorders Clinic (Johns Hopkins All Children\\'s Hospital)\\n\\nInstitute of Genetic Medicine\\n\\nFind Additional Treatment Centers at:\\n\\nHoward County Medical Center\\n\\nSibley Memorial Hospital\\n\\nSuburban Hospital\\n\\nRelated\\n\\nBones and Joints\\n                            \\n\\n                        Metatropic Dysplasia\\n\\nMucopolysaccharidoses (MPS)\\n                            \\n\\n                        Mucopolysaccharidoses (MPS)\\n\\nGenetic Disorders\\n                            \\n\\n                        Wolman Disease: Evelyn\\'s Story\\n\\nRelated Topics\\n\\nGenetic Disorders', metadata={'source': 'https://www.hopkinsmedicine.org/health/conditions-and-diseases/sickle-cell-disease#:~:text=Key%20points,causing%20painful%20and%20damaging%20complications.', 'title': 'Sickle Cell Disease | Johns Hopkins Medicine', 'description': \"Sickle cell disease is a\\xa0 blood disorder in which the hemoglobin is damaged and can't carry oxygen to the tissues. These blood cells with the defective hemoglobin are sticky and can build up and block small blood vessels leading to pain and other complications of the disease.\", 'language': 'en'}),\n",
       " Document(page_content='Quantifying the Life Expectancy Gap for People Living with Sickle Cell Disease\\n\\nMar 16\\n\\n2023\\n\\nNew study reveals average life expectancy of publicly insured individuals with sickle cell disease, drawing from massive public database\\n\\n(WASHINGTON, March 16, 2023) – While research has long established disparities in health outcomes among individuals living with sickle cell disease (SCD), few studies have quantified these gaps. A new study published in Blood Advances finds that the average life expectancy of publicly insured patients living with SCD is roughly 52.6 years. In contrast, the CDC reports that the average life expectancy in the United States is 73.5 years for men and 79.3 years for women, demonstrating the considerable burden SCD can have on affected populations.\\n\\nInvestigators also found that those insured by Medicare for disabilities or end-stage renal disease and those dually insured by Medicare and Medicaid had worse survival outcomes among the populations studied.\\n\\nSCD is the most common inherited red blood cell disorder in the United States, affecting an estimated 100,000 people. According to the Centers for Disease Control and Prevention (CDC), SCD affects one out of every 365 Black or African American births and one out of every 16,300 Hispanic American births.\\n\\n“Our study highlights that there is a persistent life expectancy gap among the individuals with sickle cell disease, even though they are covered by public insurance,” explained study author, Dr. Boshen Jiao, PhD, MPH, a researcher in the Comparative Health Outcomes, Policy & Economics (CHOICE) Institute on the Department of Pharmacy at the University of Washington. “The clinical community has known that SCD can be an extremely burdensome condition, however, this study puts numbers behind that burden using real patient data.”\\n\\nResearchers analyzed data from Medicaid Analytic eXtract (MAX) files and Medicare Part A and B Fee-for-Service claims covering enrollees from 2008 to 2016. The data included demographic information, insurance enrollment status, and administrative claims for all individuals with SCD covered by Medicaid or Medicare in all 50 states.\\n\\nThe study included 94,616 individuals with SCD at an average age of 26.6 years across insurance types. Authors reported that 5% of participants had Medicare Old-Age and Survivors Insurance Trust Fund (OASI), 4% had Medicare for disability or end-stage renal disease coverage, 48% had Medicaid, and 43% were dually eligible for Medicare and Medicaid. Of the study population, 74% were Black. Investigators confirmed death dates using death certificates provided by the National Death Index.\\n\\nResearchers found that the average life expectancy for publicly insured individuals with SCD was 52.6 years, with male life expectancy at birth (49.3 years) being significantly lower than that of females at birth (55 years). However, the study also found that those insured by Medicare for disabilities or end-stage renal disease and those dually insured by Medicare and Medicaid had significantly worse survival outcomes among the populations studied, with an average lifespan of 51.1 years at birth.\\n\\nDr. Jiao highlighted that the study demonstrates a persistent life expectancy gap among individuals with SCD, even though they are covered by public insurance.  Differences in life expectancies of individuals with SCD across different public insurances most likely reflect the differential burden of comorbidities. However more work is needed to explore these disparities as well as causes of death, which were not available in the National Death Index data linked to CMS claims.\\n\\nSeveral care transforming medical interventions for SCD have arisen over the last few decades, such as newborn screening, pneumococcal vaccination, and prophylactic antibiotics, which have dramatically improved the life expectancy of children diagnosed with SCD. Nevertheless, this data illustrates the vast lifespan disparities that persist for those living with SCD.\\n\\nDr. Jiao also commented on the high cost of gene therapies for sickle cell disease, a potentially curative option on the horizon that is estimated to cost millions of dollars. He emphasized the importance of understanding the long-term effects and value of these therapies to justify their high prices. The study underscores the burden of SCD and its disproportionate impact on Black patients, highlighting the urgent need for a cure.\\n\\n“While there is no gene therapy for sickle cell disease on the market yet, gene therapies have come out for other diseases, like beta thalassemia, and they cost a lot of money,” said Dr. Jiao. “There is substantial optimism that these therapies are valuable to the patients. But because of the high price tag, it becomes even more important that we understand that we are getting enough benefit from these therapies, lifelong, long term, that will justify these high prices.”\\n\\nBlood Advances (www.bloodadvances.org) publishes more peer-reviewed hematology research than any other academic journal worldwide and is an online only, open access journal of the\\xa0American Society of Hematology (ASH), the world’s largest professional society concerned with the causes and treatment of blood disorders.\\n\\nBlood Advances® is a registered trademark of the American Society of Hematology.\\n\\nContact:\\n\\nKira Sampson, American Society of Hematology\\n\\nksampson@hematology.org; 202-499-1796\\n\\nCitations\\n\\nCitations\\n\\nCitations\\n\\nAPA\\n\\nAmerican Society of Hematology. (2023).\\n\\nQuantifying the Life Expectancy Gap for People Living with Sickle Cell Disease.\\n\\nRetrieved from\\n\\nhttps://www.hematology.org/newsroom/press-releases/2023/quantifying-the-life-expectancy-gap-for-people-living-with-sickle-cell-disease.\\n\\nChicago\\n\\nAmerican Society of Hematology.\\n\\n\"Quantifying the Life Expectancy Gap for People Living with Sickle Cell Disease.\" Hematology.org.\\n\\nhttps://www.hematology.org/newsroom/press-releases/2023/quantifying-the-life-expectancy-gap-for-people-living-with-sickle-cell-disease\\n\\n(label-accessed May 25, 2024).\\n\\nMLA\\n\\n\"American Society of Hematology.\"\\n\\nQuantifying the Life Expectancy Gap for People Living with Sickle Cell Disease, 25 May. 2024 ,\\n\\nhttps://www.hematology.org/newsroom/press-releases/2023/quantifying-the-life-expectancy-gap-for-people-living-with-sickle-cell-disease.\\n\\nCitation Manager Formats\\n\\nBibLaTeX\\n\\nBookends\\n\\nEasyBib\\n\\nEndNote\\n\\nMendeley\\n\\nPapers\\n\\nRIS\\n\\nRef Manager\\n\\nRefWorks\\n\\nZotero', metadata={'source': 'https://www.hematology.org/newsroom/press-releases/2023/quantifying-the-life-expectancy-gap-for-people-living-with-sickle-cell-disease#:~:text=Researchers%20found%20that%20the%20average,at%20birth%20(55%20years).', 'title': 'Quantifying the Life Expectancy Gap for People Living with Sickle Cell Disease - Hematology.org', 'description': 'Quantifying the Life Expectancy Gap for People Living with Sickle Cell Disease', 'language': 'en'})]"
      ]
     },
     "execution_count": 27,
     "metadata": {},
     "output_type": "execute_result"
    }
   ],
   "source": [
    "docs = [data[i] for i in range(2)]\n",
    "docs\n"
   ]
  },
  {
   "cell_type": "code",
   "execution_count": 31,
   "metadata": {},
   "outputs": [],
   "source": [
    "from gptcache import cache\n",
    "from gptcache.manager import CacheBase\n",
    "\n",
    "# Define the function to get the content to cache\n",
    "def get_msg_func(data, **_):\n",
    "    return data.get(\"messages\")[-1].content\n",
    "\n",
    "# Initialize the cache\n",
    "cache_base = CacheBase('sqlite')\n",
    "\n",
    "cache.init(\n",
    "    pre_embedding_func=get_msg_func,\n",
    "    data_manager=cache_base\n",
    ")\n",
    "cache.set_openai_key()\n"
   ]
  },
  {
   "cell_type": "code",
   "execution_count": 36,
   "metadata": {},
   "outputs": [],
   "source": [
    "from langchain.text_splitter import RecursiveCharacterTextSplitter\n",
    "from langchain.chat_models import ChatOpenAI\n",
    "from langchain.chains import QAGenerationChain\n",
    "import json\n",
    "\n",
    "# Initialize the LLM with OpenAI\n",
    "llm = ChatOpenAI(api_key=openai.api_key, temperature=0)\n",
    "\n",
    "# Define text splitter\n",
    "text_splitter = RecursiveCharacterTextSplitter(chunk_overlap=500, chunk_size=1000)\n",
    "\n",
    "# Example documents (replace with your actual documents)\n",
    "documents = data\n",
    "\n",
    "all_qa_pairs = []\n",
    "\n",
    "for doc in documents:\n",
    "    chunks = text_splitter.split_text(doc.page_content)\n",
    "    for chunk in chunks:\n",
    "        # Initialize QAGenerationChain\n",
    "        chain = QAGenerationChain.from_llm(llm, text_splitter=text_splitter)\n",
    "        qa_pairs = chain.run(chunk)\n",
    "        \n",
    "        formatted_qa_pairs = []\n",
    "        for qa in qa_pairs:\n",
    "            formatted_qa_pairs.append({\"role\": \"user\", \"content\": qa['question']})\n",
    "            formatted_qa_pairs.append({\"role\": \"assistant\", \"content\": qa['answer']})\n",
    "        \n",
    "        all_qa_pairs.append({\"messages\": formatted_qa_pairs})\n",
    "\n",
    "# Save the Q&A pairs to a JSON file\n",
    "with open(\"drepa_data.json\", \"w\") as f:\n",
    "    json.dump(all_qa_pairs, f, indent=4)\n"
   ]
  },
  {
   "cell_type": "code",
   "execution_count": null,
   "metadata": {},
   "outputs": [],
   "source": []
  }
 ],
 "metadata": {
  "kernelspec": {
   "display_name": "pytorch_env",
   "language": "python",
   "name": "python3"
  },
  "language_info": {
   "codemirror_mode": {
    "name": "ipython",
    "version": 3
   },
   "file_extension": ".py",
   "mimetype": "text/x-python",
   "name": "python",
   "nbconvert_exporter": "python",
   "pygments_lexer": "ipython3",
   "version": "3.12.3"
  }
 },
 "nbformat": 4,
 "nbformat_minor": 2
}
